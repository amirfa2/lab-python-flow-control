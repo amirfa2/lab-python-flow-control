{
 "cells": [
  {
   "cell_type": "code",
   "execution_count": 11,
   "id": "66098db6-dd06-44dd-a84c-04075f2deba2",
   "metadata": {},
   "outputs": [
    {
     "name": "stdout",
     "output_type": "stream",
     "text": [
      "Please enter the inventory quantities for each product.\n"
     ]
    },
    {
     "name": "stdin",
     "output_type": "stream",
     "text": [
      "Enter quantity for t-shirt:  456\n",
      "Enter quantity for mug:  789\n",
      "Enter quantity for hat:  321\n",
      "Enter quantity for book:  222\n",
      "Enter quantity for keychain:  22\n",
      "Enter the name of the product you want to order:  book\n",
      "Do you want to add another product? (yes/no):  yes\n",
      "Enter the name of the product you want to order:  keychain\n",
      "Do you want to add another product? (yes/no):  no\n"
     ]
    },
    {
     "name": "stdout",
     "output_type": "stream",
     "text": [
      "Products ordered by the customer: ['book', 'keychain']\n",
      "Order Statistics:\n",
      "Total Products Ordered: 2\n",
      "Percentage of Products Ordered: 40.0%\n",
      "Updated Inventory:\n",
      "t-shirt: 456\n",
      "mug: 789\n",
      "hat: 321\n",
      "book: 221\n",
      "keychain: 21\n"
     ]
    }
   ],
   "source": [
    "# Define a list called 'products'\n",
    "products = [\"t-shirt\", \"mug\", \"hat\", \"book\", \"keychain\"]\n",
    "\n",
    "# Create an empty dictionary\n",
    "inventory = {}\n",
    "\n",
    "# Ask user to input the quantity of each product and store it in the `inventory` dictionary\n",
    "print(\"Please enter the inventory quantities for each product.\")\n",
    "for product in products:\n",
    "    quantity = int(input(f\"Enter quantity for {product}: \"))\n",
    "    inventory[product] = quantity  # Assign the entered quantity to the respective product\n",
    "\n",
    "# Create an empty set called 'customer_orders'\n",
    "customer_orders = []\n",
    "\n",
    "# Loop to ask the user to input the name of products they want to order and add them to the 'customer_orders'\n",
    "while True:\n",
    "    order = input(\"Enter the name of the product you want to order: \").lower() \n",
    "    if order in products:\n",
    "        customer_orders.append(order)  # Add to the list\n",
    "        another_order = input(\"Do you want to add another product? (yes/no): \").strip().lower()\n",
    "        if another_order == 'no':\n",
    "            break\n",
    "    else:\n",
    "        print(f\"{order} is not correct. Please choose from {products}.\")\n",
    "\n",
    "\n",
    "print(\"Products ordered by the customer:\", customer_orders)\n",
    "\n",
    "# Calculate statistics\n",
    "total_products_ordered = len(customer_orders)  # Total products ordered\n",
    "total_available_products = len(products)  # Total number of different products available in the store\n",
    "\n",
    "# Calculate percentage of products ordered\n",
    "percentage_ordered = (total_products_ordered / total_available_products) * 100\n",
    "\n",
    "# Store these statistics in a tuple called 'order_status'\n",
    "order_status = (total_products_ordered, percentage_ordered)\n",
    "\n",
    "print(\"Order Statistics:\")\n",
    "print(f\"Total Products Ordered: {order_status[0]}\")\n",
    "print(f\"Percentage of Products Ordered: {order_status[1]:}%\")\n",
    "\n",
    "# Update the inventory\n",
    "\n",
    "for product in customer_orders:\n",
    "    inventory[product] -= 1\n",
    "\n",
    "# Print the updated inventory\n",
    "\n",
    "print(\"Updated Inventory:\")\n",
    "for product, quantity in inventory.items():\n",
    "    print(f\"{product}: {quantity}\")\n"
   ]
  },
  {
   "cell_type": "code",
   "execution_count": null,
   "id": "19c1cb42-20d9-49cb-873c-4ff7351d8514",
   "metadata": {},
   "outputs": [],
   "source": []
  }
 ],
 "metadata": {
  "kernelspec": {
   "display_name": "Python 3",
   "language": "python",
   "name": "python3"
  },
  "language_info": {
   "codemirror_mode": {
    "name": "ipython",
    "version": 3
   },
   "file_extension": ".py",
   "mimetype": "text/x-python",
   "name": "python",
   "nbconvert_exporter": "python",
   "pygments_lexer": "ipython3",
   "version": "3.8.8"
  }
 },
 "nbformat": 4,
 "nbformat_minor": 5
}
